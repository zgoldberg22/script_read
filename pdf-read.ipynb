{
 "cells": [
  {
   "cell_type": "code",
   "execution_count": 67,
   "metadata": {},
   "outputs": [
    {
     "ename": "SyntaxError",
     "evalue": "invalid syntax. Perhaps you forgot a comma? (3121322038.py, line 1)",
     "output_type": "error",
     "traceback": [
      "\u001b[0;36m  File \u001b[0;32m\"/var/folders/bg/ggw5gyfj4fq9phqnkmjs80m40000gn/T/ipykernel_27209/3121322038.py\"\u001b[0;36m, line \u001b[0;32m1\u001b[0m\n\u001b[0;31m    pip install pdf2image pytesseract\u001b[0m\n\u001b[0m                ^\u001b[0m\n\u001b[0;31mSyntaxError\u001b[0m\u001b[0;31m:\u001b[0m invalid syntax. Perhaps you forgot a comma?\n"
     ]
    }
   ],
   "source": [
    "pip install pdf2image pytesseract\n",
    "# pdf2image - converts PDF docs to high res image files that can be more easily scanned \n",
    "   # uses a library called Poppler which performs conversions of PDF to images \n",
    "#pytesseract can take the image and pull text from it\n",
    "   # tesseract is an \"Optical Character Recognition\" (OCR) engine that can process and extract text from images to convert to machine-readable characters \n",
    "   # performs OCR on each PDF page image  "
   ]
  },
  {
   "cell_type": "code",
   "execution_count": null,
   "metadata": {},
   "outputs": [],
   "source": [
    "from pdf2image import convert_from_path\n",
    "import pytesseract\n",
    "\n",
    "# reads all of script normally \n",
    "def pdf_to_text_with_ocr(file_path, output_text_file):\n",
    "   text = \"\"\n",
    "   try:\n",
    "      # Convert each page of the PDF to an image\n",
    "      pages = convert_from_path(file_path, dpi=300)\n",
    "      for page in pages:\n",
    "         # Perform OCR on each image page\n",
    "         text += pytesseract.image_to_string(page) + \"\\n\"\n",
    "   except Exception as e:\n",
    "      print(f\"Error during OCR: {e}\")\n",
    "\n",
    "   # Write the accumulated text to the specified text file\n",
    "   with open(output_text_file, \"w\", encoding=\"utf-8\") as file:\n",
    "      file.write(text)\n",
    "   #  return text\n",
    "\n",
    "file_path = \"short-test.pdf\"\n",
    "output_file = \"output.txt\"\n",
    "pdf_to_text_with_ocr(file_path, output_file)\n"
   ]
  },
  {
   "cell_type": "code",
   "execution_count": 81,
   "metadata": {},
   "outputs": [
    {
     "ename": "SyntaxError",
     "evalue": "f-string: invalid syntax (3104813112.py, line 38)",
     "output_type": "error",
     "traceback": [
      "\u001b[0;36m  File \u001b[0;32m\"/var/folders/bg/ggw5gyfj4fq9phqnkmjs80m40000gn/T/ipykernel_27209/3104813112.py\"\u001b[0;36m, line \u001b[0;32m38\u001b[0m\n\u001b[0;31m    formatted_text += f\"[{character_name}]: {line.()}\\n\"\u001b[0m\n\u001b[0m    ^\u001b[0m\n\u001b[0;31mSyntaxError\u001b[0m\u001b[0;31m:\u001b[0m f-string: invalid syntax\n"
     ]
    }
   ],
   "source": [
    "from pdf2image import convert_from_path\n",
    "import pytesseract\n",
    "import re\n",
    "\n",
    "characters = [\"LEADING PLAYER\", \"PIPPIN\", \"CHARLES\", \"LEWIS\", \"FASTRADA\", \"BERTHE\", \"CATHERINE\", \"THEO\", \"BAND OF PLAYERS\", \"ALL\", \"SOLDIERS\", \"HEAD\", \"WOMEN 1\", \"MEN 1\", \"MEN 2\", \"WOMEN 2\"]\n",
    "\n",
    "def character_lines_and_songs(file_path, output_text_file):\n",
    "   text = \"\"\n",
    "   try:\n",
    "      # Convert each page of the PDF to an image\n",
    "      pages = convert_from_path(file_path, dpi=300)\n",
    "      for page in pages:\n",
    "         # Perform OCR on each image page\n",
    "         page_text = pytesseract.image_to_string(page) + \"\\n\"\n",
    "\n",
    "         # Remove all text in parentheses\n",
    "         # page_text = re.sub(r'\\(.*?\\)', '', page_text)\n",
    "\n",
    "         formatted_text = \"\"\n",
    "         last_character_name = None\n",
    "         character_name = None\n",
    "         for line in page_text.splitlines():\n",
    "            # Strip leading/trailing whitespace and check if the line contains text\n",
    "            line = line.strip()\n",
    "            if not line: \n",
    "               continue # skip empty lines\n",
    "            \n",
    "            # if re.match(r'^[A-Z ]+$', line):\n",
    "            #    print(line, len(line.split()))\n",
    "            if re.match(r'^[A-Z ]+$', line) and line in characters:\n",
    "               character_name = line\n",
    "\n",
    "               if character_name != last_character_name:\n",
    "                  formatted_text += f\"[{character_name}]: \"\n",
    "                  last_character_name = character_name \n",
    "            else: \n",
    "               if character_name:\n",
    "                  formatted_text += f\"[{character_name}]: {line.()}\\n\"\n",
    "               # If it's in uppercase but part of a song, treat it as a song line\n",
    "               elif line.isupper():\n",
    "                  formatted_text += f\"[SONG]: {line}\\n\"\n",
    "               else:\n",
    "                  # Otherwise, just add the line as it is (if it's spoken by the character)\n",
    "                  formatted_text += f\"{line}\\n\"\n",
    "\n",
    "         # formatted_text = re.sub(r'\\(.*?\\)', '', page_text)\n",
    "         text += \"\\n\" + formatted_text\n",
    "\n",
    "   except Exception as e:\n",
    "      print(f\"Error: {e}\")\n",
    "\n",
    "   # Write the accumulated text to the specified text file\n",
    "   with open(output_text_file, \"w\", encoding=\"utf-8\") as file:\n",
    "      file.write(text)\n",
    "   #  return text\n",
    "\n",
    "file_path = \"short-test.pdf\"\n",
    "output_file = \"lines-and-songs.txt\"\n",
    "character_lines_and_songs(file_path, output_file)\n"
   ]
  },
  {
   "attachments": {},
   "cell_type": "markdown",
   "metadata": {},
   "source": [
    "Idea: \n",
    "- put all text in text file\n",
    "- after all text is parsed correctly, the reviewer can look through it and see if there are any mistakes\n",
    "- then, run the next script which converts that text file into slides\n",
    "\n",
    "## Current Issues\n",
    "1. Columns of text are not working - when multiple people are supposed to be talking or singing at once"
   ]
  },
  {
   "cell_type": "code",
   "execution_count": 83,
   "metadata": {},
   "outputs": [],
   "source": [
    "from pdf2image import convert_from_path\n",
    "import pytesseract\n",
    "import re\n",
    "\n",
    "characters = [\"LEADING PLAYER\", \"PIPPIN\", \"CHARLES\", \"LEWIS\", \"FASTRADA\", \"BERTHE\", \"CATHERINE\", \"THEO\", \"BAND OF PLAYERS\", \"ALL\", \"A PLAYER\", \"PLAYERS\", \"OTHER PLAYERS\", \"SOLDIERS\", \"HEAD\"]\n",
    "\n",
    "def character_lines_and_songs(file_path, output_text_file):\n",
    "      text = \"\"\n",
    "\n",
    "      pages = convert_from_path(file_path, dpi=300)\n",
    "      for page in pages:\n",
    "            # Perform OCR on each image page\n",
    "            page_text = pytesseract.image_to_string(page) + \"\\n\"\n",
    "\n",
    "            formatted_text = \"\"\n",
    "            character_name = None\n",
    "            accumulated_line = \"\"\n",
    "\n",
    "            for line in page_text.splitlines():\n",
    "                  # if line does not contain text, then do not add to text\n",
    "                  line = line.strip()\n",
    "                  # line starting with # may be specific to pippen script\n",
    "                  if not line or line[0] == '#': \n",
    "                        continue\n",
    "\n",
    "                  # if character line, then line is only character's name and in all caps \n",
    "                  if re.match(r'^[A-Z ]+$', line) and line in characters:\n",
    "                        if accumulated_line:\n",
    "                              formatted_text += accumulated_line + \"\\n\"\n",
    "                              accumulated_line = \"\"  # Reset the accumulator\n",
    "\n",
    "                        character_name = line\n",
    "                        formatted_text += f\"\\n[{character_name}]: \"\n",
    "                  elif line.isupper():\n",
    "                        if accumulated_line:\n",
    "                              formatted_text += accumulated_line + \"\\n\"\n",
    "                              accumulated_line = \"\"  # Reset the accumulator\n",
    "                        \n",
    "                        formatted_text += f\"\\n{line}\"\n",
    "\n",
    "                  # else if not character line, then normal line so add to text \n",
    "                  else: \n",
    "                        accumulated_line += \" \" + line if accumulated_line else line\n",
    "\n",
    "            # formatted_text = re.sub(r'\\(.*?\\)', '', formatted_text)\n",
    "            if accumulated_line:\n",
    "                  formatted_text += accumulated_line\n",
    "            \n",
    "            formatted_text = re.sub(r'\\(.*?\\)|\\|', '', formatted_text)\n",
    "            text += formatted_text + \"\\n\"\n",
    "\n",
    "      # write text to file \n",
    "      with open(output_text_file, \"w\", encoding=\"utf-8\") as file:\n",
    "            file.write(text)\n",
    "\n",
    "\n",
    "file_path = \"short-test.pdf\"\n",
    "output_file = \"lines-songs-2.txt\"\n",
    "character_lines_and_songs(file_path, output_file)\n",
    "\n",
    "# TODO: if multiple characters on one line, then could mean that multiple people talking with multiple columns of text\n"
   ]
  },
  {
   "attachments": {},
   "cell_type": "markdown",
   "metadata": {},
   "source": [
    "### Other todo\n",
    "to be done separately from function above, \n",
    "   - turn google doc or text file into google slides with rules"
   ]
  }
 ],
 "metadata": {
  "kernelspec": {
   "display_name": "Python 3",
   "language": "python",
   "name": "python3"
  },
  "language_info": {
   "codemirror_mode": {
    "name": "ipython",
    "version": 3
   },
   "file_extension": ".py",
   "mimetype": "text/x-python",
   "name": "python",
   "nbconvert_exporter": "python",
   "pygments_lexer": "ipython3",
   "version": "3.10.0 (v3.10.0:b494f5935c, Oct  4 2021, 14:59:19) [Clang 12.0.5 (clang-1205.0.22.11)]"
  },
  "orig_nbformat": 4,
  "vscode": {
   "interpreter": {
    "hash": "aee8b7b246df8f9039afb4144a1f6fd8d2ca17a180786b69acc140d282b71a49"
   }
  }
 },
 "nbformat": 4,
 "nbformat_minor": 2
}
